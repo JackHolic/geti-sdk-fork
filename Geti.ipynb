{
 "cells": [
  {
   "cell_type": "code",
   "execution_count": 7,
   "metadata": {},
   "outputs": [
    {
     "name": "stderr",
     "output_type": "stream",
     "text": [
      "Traceback (most recent call last):\n",
      "  File \"c:\\Users\\dangkho1\\OneDrive - Intel Corporation\\Documents\\MAE\\AI\\Geti\\geti-sdk-fork\\detect.py\", line 1, in <module>\n",
      "    from geti_sdk.deployment import Deployment\n",
      "  File \"c:\\Users\\dangkho1\\OneDrive - Intel Corporation\\Documents\\MAE\\AI\\Geti\\geti-sdk-fork\\geti_sdk\\__init__.py\", line 79, in <module>\n",
      "    from .geti import Geti\n",
      "  File \"c:\\Users\\dangkho1\\OneDrive - Intel Corporation\\Documents\\MAE\\AI\\Geti\\geti-sdk-fork\\geti_sdk\\geti.py\", line 42, in <module>\n",
      "    from .deployment import Deployment\n",
      "  File \"c:\\Users\\dangkho1\\OneDrive - Intel Corporation\\Documents\\MAE\\AI\\Geti\\geti-sdk-fork\\geti_sdk\\deployment\\__init__.py\", line 83, in <module>\n",
      "    from .deployed_model import DeployedModel\n",
      "  File \"c:\\Users\\dangkho1\\OneDrive - Intel Corporation\\Documents\\MAE\\AI\\Geti\\geti-sdk-fork\\geti_sdk\\deployment\\deployed_model.py\", line 26, in <module>\n",
      "    from model_api.adapters import OpenvinoAdapter, OVMSAdapter\n",
      "  File \"c:\\Users\\dangkho1\\.conda\\envs\\Geti3.9\\lib\\site-packages\\model_api\\adapters\\__init__.py\", line 17, in <module>\n",
      "    from .onnx_adapter import ONNXRuntimeAdapter\n",
      "  File \"c:\\Users\\dangkho1\\.conda\\envs\\Geti3.9\\lib\\site-packages\\model_api\\adapters\\onnx_adapter.py\", line 22, in <module>\n",
      "    from .utils import INTERPOLATION_TYPES, RESIZE_TYPES, InputTransform\n",
      "  File \"c:\\Users\\dangkho1\\.conda\\envs\\Geti3.9\\lib\\site-packages\\model_api\\adapters\\utils.py\", line 23, in <module>\n",
      "    from openvino import Model, OVAny, Type, layout_helpers\n",
      "ImportError: cannot import name 'Model' from 'openvino' (unknown location)\n"
     ]
    }
   ],
   "source": [
    "!python detect.py --save_pass_images --model \"C:\\\\Users\\\\dangkho1\\\\OneDrive - Intel Corporation\\\\Documents\\\\MAE\\\\AI\\\\Geti\\\\geti-sdk-fork\\\\model\\\\lid\\\\model\" --source \"C:\\\\Users\\\\dangkho1\\\\OneDrive - Intel Corporation\\\\Documents\\\\MAE\\\\SkyVision\\\\DataCollection\\\\FWPQ2_2024\\\\lid\\\\EqualizedImages\" --dest \"C:\\\\Users\\\\dangkho1\\\\OneDrive - Intel Corporation\\\\Documents\\\\MAE\\\\AI\\\\Geti\\\\geti-sdk-fork\\\\runs\\\\liddata2\""
   ]
  },
  {
   "cell_type": "markdown",
   "metadata": {},
   "source": []
  }
 ],
 "metadata": {
  "kernelspec": {
   "display_name": "Python 3",
   "language": "python",
   "name": "python3"
  },
  "language_info": {
   "codemirror_mode": {
    "name": "ipython",
    "version": 3
   },
   "file_extension": ".py",
   "mimetype": "text/x-python",
   "name": "python",
   "nbconvert_exporter": "python",
   "pygments_lexer": "ipython3",
   "version": "3.9.19"
  }
 },
 "nbformat": 4,
 "nbformat_minor": 2
}
